{
 "cells": [
  {
   "cell_type": "markdown",
   "metadata": {},
   "source": [
    "### Customer Segmentation- Unsupervised Learning"
   ]
  },
  {
   "cell_type": "code",
   "execution_count": null,
   "metadata": {},
   "outputs": [],
   "source": [
    "import pandas as pd\n",
    "import numpy as np\n",
    "import seaborn as sns\n",
    "import matplotlib.pyplot as plt\n",
    "%matplotlib inline\n",
    "\n",
    "df=pd.read_excel(\"Credit Card Customer Data.xlsx\")\n",
    "df.head()"
   ]
  },
  {
   "cell_type": "code",
   "execution_count": null,
   "metadata": {},
   "outputs": [],
   "source": [
    "df.shape"
   ]
  },
  {
   "cell_type": "code",
   "execution_count": null,
   "metadata": {},
   "outputs": [],
   "source": [
    "df['Customer Key'].nunique()"
   ]
  },
  {
   "cell_type": "code",
   "execution_count": null,
   "metadata": {},
   "outputs": [],
   "source": [
    "## duplicate rows in dataframe\n",
    "df[df.duplicated(['Customer Key'])]"
   ]
  },
  {
   "cell_type": "code",
   "execution_count": null,
   "metadata": {},
   "outputs": [],
   "source": [
    "df=df.iloc[:,2:]\n",
    "df.head()"
   ]
  },
  {
   "cell_type": "code",
   "execution_count": null,
   "metadata": {},
   "outputs": [],
   "source": [
    "df.info()"
   ]
  },
  {
   "cell_type": "code",
   "execution_count": null,
   "metadata": {},
   "outputs": [],
   "source": [
    "df.isnull().sum()"
   ]
  },
  {
   "cell_type": "code",
   "execution_count": null,
   "metadata": {},
   "outputs": [],
   "source": [
    "df.describe().T"
   ]
  },
  {
   "cell_type": "code",
   "execution_count": null,
   "metadata": {},
   "outputs": [],
   "source": [
    "plt.boxplot(df['Avg_Credit_Limit'])"
   ]
  },
  {
   "cell_type": "code",
   "execution_count": null,
   "metadata": {},
   "outputs": [],
   "source": [
    "df['Avg_Credit_Limit']=np.log(df['Avg_Credit_Limit'])\n",
    "plt.boxplot(df['Avg_Credit_Limit'])"
   ]
  },
  {
   "cell_type": "code",
   "execution_count": null,
   "metadata": {},
   "outputs": [],
   "source": [
    "df.columns"
   ]
  },
  {
   "cell_type": "code",
   "execution_count": null,
   "metadata": {},
   "outputs": [],
   "source": [
    "sns.distplot(df['Total_calls_made'])"
   ]
  },
  {
   "cell_type": "code",
   "execution_count": null,
   "metadata": {},
   "outputs": [],
   "source": [
    "##df['Total_visits_online'].replace(0,0.000000001,inplace=True)\n",
    "df['Total_visits_online']=np.sqrt(df['Total_visits_online'])\n",
    "plt.boxplot(df['Total_visits_online'])\n"
   ]
  },
  {
   "cell_type": "code",
   "execution_count": null,
   "metadata": {},
   "outputs": [],
   "source": [
    "plt.boxplot(df['Total_calls_made'])"
   ]
  },
  {
   "cell_type": "code",
   "execution_count": null,
   "metadata": {},
   "outputs": [],
   "source": [
    "## scale/Normalise the data\n",
    "from scipy.stats import zscore\n",
    "df_z=df.apply(zscore)\n",
    "df_z.head()"
   ]
  },
  {
   "cell_type": "markdown",
   "metadata": {},
   "source": [
    "Univariate Analysis"
   ]
  },
  {
   "cell_type": "code",
   "execution_count": null,
   "metadata": {},
   "outputs": [],
   "source": [
    "sns.pairplot(df_z,diag_kind='kde')"
   ]
  },
  {
   "cell_type": "markdown",
   "metadata": {},
   "source": [
    "From the above pairplot, its intuitive to have atleast 4 or 5 clusters\n"
   ]
  },
  {
   "cell_type": "code",
   "execution_count": null,
   "metadata": {},
   "outputs": [],
   "source": [
    "corr_df=df_z.corr()\n",
    "sns.heatmap(corr_df,annot=True)"
   ]
  },
  {
   "cell_type": "markdown",
   "metadata": {},
   "source": [
    "The positive relationship between Avg_credit_limit and Total_Credit_Cards is positive, which is obvious that, if the customer has more number of credit cards, then his credit limit is likely to be high.\n",
    "All other features seems to be reasonably independant of each other"
   ]
  },
  {
   "cell_type": "markdown",
   "metadata": {},
   "source": [
    "## Unsupervised Learning\n",
    "## K Means Clustering "
   ]
  },
  {
   "cell_type": "code",
   "execution_count": null,
   "metadata": {},
   "outputs": [],
   "source": [
    "from sklearn.cluster import KMeans\n",
    "## Finding the optimal k\n",
    "n_clusters=range(1,18)\n",
    "cluster_error=[]\n",
    "for cluster in n_clusters:\n",
    "    k_means=KMeans(cluster,random_state=30)\n",
    "    k_means.fit(df_z)\n",
    "    error=k_means.inertia_\n",
    "    cluster_error.append(error)\n",
    "    "
   ]
  },
  {
   "cell_type": "code",
   "execution_count": null,
   "metadata": {},
   "outputs": [],
   "source": [
    "## Elbow plot\n",
    "plt.plot(n_clusters,cluster_error,marker='o')\n",
    "plt.title('Elbow Plot')\n",
    "plt.xlabel(\"Clusters\")\n",
    "plt.ylabel(\"Average In-Cluster distortion\")"
   ]
  },
  {
   "cell_type": "code",
   "execution_count": null,
   "metadata": {},
   "outputs": [],
   "source": [
    "## From the above plot, k=4 or k=5 is optimal\n",
    "#Lets try with k=4\n",
    "k_means=KMeans(n_clusters=4,random_state=50,n_init=5)\n",
    "k_means.fit(df_z)\n",
    "label=k_means.labels_\n",
    "centers=k_means.cluster_centers_\n"
   ]
  },
  {
   "cell_type": "code",
   "execution_count": null,
   "metadata": {},
   "outputs": [],
   "source": [
    "## Cluster Centroids\n",
    "#kmeans_center=pd.DataFrame(centers,columns=list(df_z))\n",
    "#kmeans_center.T"
   ]
  },
  {
   "cell_type": "code",
   "execution_count": null,
   "metadata": {},
   "outputs": [],
   "source": [
    "## Silhoutte score for KMeans model\n",
    "from sklearn.metrics import silhouette_score\n",
    "s_kmeans=silhouette_score(df_z,label)\n",
    "print(s_kmeans)"
   ]
  },
  {
   "cell_type": "code",
   "execution_count": null,
   "metadata": {},
   "outputs": [],
   "source": [
    "df_k=df_z.copy()\n",
    "df_k['Cluster']=label"
   ]
  },
  {
   "cell_type": "code",
   "execution_count": null,
   "metadata": {},
   "outputs": [],
   "source": [
    "plt.figure(figsize=(8,5))\n",
    "df_kmeans['Cluster'].value_counts().plot.bar(color='red')\n",
    "plt.xlabel(\"Clusters\")\n",
    "plt.ylabel(\"Count of Customers\")\n",
    "plt.title(\"KMeans-Number of Customers in Each Category\")\n",
    "plt.show()"
   ]
  },
  {
   "cell_type": "code",
   "execution_count": null,
   "metadata": {},
   "outputs": [],
   "source": [
    "zero = df_k[df_k['Cluster'] == 0].Total_visits_online.mean()\n",
    "one = df_k[df_k['Cluster'] == 1].Total_visits_online.mean()\n",
    "two = df_k[df_k['Cluster'] == 2].Total_visits_online.mean()\n",
    "three = df_k[df_k['Cluster'] == 3].Total_visits_online.mean()\n",
    "\n",
    "\n",
    "indices = ['0','1','2', '3']\n",
    "bar = pd.DataFrame([zero, one, two, three], index = indices)\n",
    "bar.plot.bar(color='green')\n",
    "plt.xlabel('Label')\n",
    "plt.ylabel('Total Visits Online')\n",
    "plt.title(\"KMeans-Total Visits online Each Category\")\n",
    "plt.show()"
   ]
  },
  {
   "cell_type": "code",
   "execution_count": null,
   "metadata": {},
   "outputs": [],
   "source": [
    "zero = df_k[df_k['Cluster'] == 0].Avg_Credit_Limit.mean()\n",
    "one = df_k[df_k['Cluster'] == 1].Avg_Credit_Limit.mean()\n",
    "two = df_k[df_k['Cluster'] == 2].Avg_Credit_Limit.mean()\n",
    "three = df_k[df_k['Cluster'] == 3].Avg_Credit_Limit.mean()\n",
    "\n",
    "\n",
    "indices = ['0','1','2', '3']\n",
    "bar = pd.DataFrame([zero, one, two, three], index = indices)\n",
    "bar.plot.bar(color='green')\n",
    "plt.xlabel('Label')\n",
    "plt.ylabel('Avg Credit Limit')\n",
    "plt.title(\"KMeans-Avg Credit Limit of Each Category\")\n",
    "plt.show()"
   ]
  },
  {
   "cell_type": "code",
   "execution_count": null,
   "metadata": {},
   "outputs": [],
   "source": [
    "zero = df_k[df_k['Cluster'] == 0].Total_calls_made.mean()\n",
    "one = df_k[df_k['Cluster'] == 1].Total_calls_made.mean()\n",
    "two = df_k[df_k['Cluster'] == 2].Total_calls_made.mean()\n",
    "three = df_k[df_k['Cluster'] == 3].Total_calls_made.mean()\n",
    "\n",
    "\n",
    "indices = ['0','1','2', '3']\n",
    "bar = pd.DataFrame([zero, one, two, three], index = indices)\n",
    "bar.plot.bar(color='green')\n",
    "plt.xlabel('Label')\n",
    "plt.ylabel('Average Total Calls made')\n",
    "plt.title(\"KMeans-Avg Total calls of Each Category\")\n",
    "plt.show()"
   ]
  },
  {
   "cell_type": "markdown",
   "metadata": {},
   "source": [
    "HIERARCHICAL CLUSTERING"
   ]
  },
  {
   "cell_type": "code",
   "execution_count": null,
   "metadata": {},
   "outputs": [],
   "source": [
    "# Hierarchical clustering\n",
    "from sklearn.cluster import AgglomerativeClustering\n",
    "model_hier=AgglomerativeClustering(n_clusters=4,affinity='euclidean',linkage='average')\n",
    "model_hier.fit(df_z)\n",
    "label=model_hier.labels_\n",
    "df_hier=df_z.copy()\n",
    "df_hier['Cluster']=label\n",
    "df_hier.head()\n"
   ]
  },
  {
   "cell_type": "code",
   "execution_count": null,
   "metadata": {},
   "outputs": [],
   "source": []
  },
  {
   "cell_type": "code",
   "execution_count": null,
   "metadata": {},
   "outputs": [],
   "source": [
    "## Analysing the clusters with boxplot\n",
    "\n",
    "df_hier.boxplot(by='Cluster',layout=(2,3),figsize=(10,5))"
   ]
  },
  {
   "cell_type": "code",
   "execution_count": null,
   "metadata": {},
   "outputs": [],
   "source": [
    "## Silhouette score for hierarchical clustering\n",
    "from sklearn.metrics import silhouette_score\n",
    "s_hier=silhouette_score(df_z,label,metric='euclidean',random_state=50)\n",
    "print(s_hier)"
   ]
  },
  {
   "cell_type": "markdown",
   "metadata": {},
   "source": [
    "## cophenetic coeff\n",
    "from scipy.cluster.hierarchy import cophenet,linkage,dendrogram\n",
    "from scipy.spatial.distance import pdist\n",
    "Z=linkage(df_z,metric='euclidean',method='average')\n",
    "c,c_dis=cophenet(Z,pdist(df_z))\n",
    "c"
   ]
  },
  {
   "cell_type": "code",
   "execution_count": null,
   "metadata": {},
   "outputs": [],
   "source": [
    "## Dendrogram\n",
    "plt.figure(figsize=(10, 5))\n",
    "plt.title('Agglomerative Hierarchical Clustering Dendogram')\n",
    "plt.xlabel('sample index')\n",
    "plt.ylabel('Distance')\n",
    "dendrogram(Z, leaf_rotation=90.,color_threshold = 40, leaf_font_size=8. )\n",
    "plt.tight_layout()"
   ]
  },
  {
   "cell_type": "code",
   "execution_count": null,
   "metadata": {},
   "outputs": [],
   "source": [
    "plt.figure(figsize=(8,5))\n",
    "df_hier['Cluster'].value_counts().plot.bar(color='red')\n",
    "plt.xlabel(\"Clusters\")\n",
    "plt.ylabel(\"Count of Customers\")\n",
    "plt.title(\"Number of Customers in Each Category\")\n",
    "plt.show()\n"
   ]
  },
  {
   "cell_type": "code",
   "execution_count": null,
   "metadata": {},
   "outputs": [],
   "source": [
    "## Cluster 0 has the highest number of customers and cluster 3 has the lowest number of customers\n"
   ]
  },
  {
   "cell_type": "code",
   "execution_count": null,
   "metadata": {},
   "outputs": [],
   "source": [
    "## Assigning the labels to the original dataset\n",
    "df['Cluster']=label"
   ]
  },
  {
   "cell_type": "code",
   "execution_count": null,
   "metadata": {},
   "outputs": [],
   "source": [
    "zero = df[df['Cluster'] == 0].Avg_Credit_Limit.mean()\n",
    "one = df[df['Cluster'] == 1].Avg_Credit_Limit.mean()\n",
    "two = df[df['Cluster'] == 2].Avg_Credit_Limit.mean()\n",
    "three = df[df['Cluster'] == 3].Avg_Credit_Limit.mean()\n",
    "\n",
    "\n",
    "indices = ['0','1','2', '3']\n",
    "bar = pd.DataFrame([zero, one, two, three], index = indices)\n",
    "bar.plot.bar(color='green')\n",
    "plt.xlabel('Label')\n",
    "plt.ylabel('Avg Credit Limit')\n",
    "plt.title(\"Avg Credit Limit of Each Category\")\n",
    "plt.show()"
   ]
  },
  {
   "cell_type": "code",
   "execution_count": null,
   "metadata": {},
   "outputs": [],
   "source": [
    "zero = df[df['Cluster'] == 0].Total_visits_online.mean()\n",
    "one = df[df['Cluster'] == 1].Total_visits_online.mean()\n",
    "two = df[df['Cluster'] == 2].Total_visits_online.mean()\n",
    "three = df[df['Cluster'] == 3].Total_visits_online.mean()\n",
    "\n",
    "\n",
    "indices = ['0','1','2', '3']\n",
    "bar = pd.DataFrame([zero, one, two, three], index = indices)\n",
    "bar.plot.bar(color='green')\n",
    "plt.xlabel('Label')\n",
    "plt.ylabel('Average Visits online')\n",
    "plt.title(\"Hierarchical Clustering - Avg Online visits of Each Category\")\n",
    "plt.show()"
   ]
  },
  {
   "cell_type": "code",
   "execution_count": null,
   "metadata": {},
   "outputs": [],
   "source": [
    "zero = df[df['Cluster'] == 0].Total_calls_made.mean()\n",
    "one = df[df['Cluster'] == 1].Total_calls_made.mean()\n",
    "two = df[df['Cluster'] == 2].Total_calls_made.mean()\n",
    "three = df[df['Cluster'] == 3].Total_calls_made.mean()\n",
    "\n",
    "\n",
    "indices = ['0','1','2', '3']\n",
    "bar = pd.DataFrame([zero, one, two, three], index = indices)\n",
    "bar.plot.bar(color='green')\n",
    "plt.xlabel('Label')\n",
    "plt.ylabel('Average Total Calls made')\n",
    "plt.title(\"Avg Total calls of Each Category\")\n",
    "plt.show()"
   ]
  },
  {
   "cell_type": "markdown",
   "metadata": {},
   "source": [
    "### Comparison of KMeans Clusters and Hierarchical Clusters"
   ]
  },
  {
   "cell_type": "markdown",
   "metadata": {},
   "source": [
    "### Hierarchical Clustering Analysis\n",
    "\n",
    "Label 3 category has the highest Avg Credit limit and online visits, while the number of customers and total calls made, and  bank visits is the lowest\n",
    "\n",
    "Label 0 category has the highest Total Calls made, while the average credit limit in label 0 is the lowest and is characterized by second highest number of customers.\n",
    "\n",
    "Label 1 has the lowest total calls made\n",
    "\n",
    "Label 2 is characterized by lowest average online visits\n",
    "\n",
    "### KMeans Clustering Analysis\n",
    "\n",
    "Label 2 has highest Avg Credit Limit and highest online visits, while the number of customers and total calls made is lowest.\n",
    "\n",
    "Label 1 has highest total calls made, while lowest Avg Credit Limit and is characterised by highest number of customers.\n",
    "\n",
    "Label 0 has lowest average total Online visits and high Average Credit Limits\n",
    "\n",
    "Label 3 has lowest Online visits and highest bank visits\n",
    "\n"
   ]
  },
  {
   "cell_type": "markdown",
   "metadata": {},
   "source": [
    "### Key Questions:\n",
    "\n",
    "#### How many different segments of customers are there?\n",
    "4 different segments of customers\n",
    "\n",
    "#### How are these segments different from each other?\n",
    "The 4 segments are distinct and their profile is below:\n",
    "\n",
    "Label 0: Lowest Avg Credit limit Customers and make high number of Calls\n",
    "\n",
    "Label 1: High Credit limit but less total number of Credit Cards and least total number of calls\n",
    "\n",
    "Label 2: Customers making least Average online visits\n",
    "\n",
    "Label 3: Highest Avg Credit limit customers and highest total number of credit cards\n",
    "\n",
    "#### What are your recommendations to the bank on how to better market to and service these customers?\n",
    "I would recommend the Market research team to focus their personalised Campaigns on Label 1 customers who have high Avg Credit limit but less number of Credit Cards. These potential customers can be targeted to take more credit cards.I would also recommend them to focus on label 0 customers, to improve their credit limit and hence sell more credit cards to them. \n",
    "\n",
    "Recommend the Operations and Service team to focus on Label 0 customers, since they make the most number of calls. \n",
    "\n",
    "\n"
   ]
  },
  {
   "cell_type": "code",
   "execution_count": null,
   "metadata": {},
   "outputs": [],
   "source": []
  }
 ],
 "metadata": {
  "kernelspec": {
   "display_name": "Python 3 (ipykernel)",
   "language": "python",
   "name": "python3"
  },
  "language_info": {
   "codemirror_mode": {
    "name": "ipython",
    "version": 3
   },
   "file_extension": ".py",
   "mimetype": "text/x-python",
   "name": "python",
   "nbconvert_exporter": "python",
   "pygments_lexer": "ipython3",
   "version": "3.11.5"
  }
 },
 "nbformat": 4,
 "nbformat_minor": 4
}
